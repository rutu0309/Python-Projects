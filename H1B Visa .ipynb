{
 "cells": [
  {
   "cell_type": "code",
   "execution_count": 1,
   "metadata": {},
   "outputs": [],
   "source": [
    "import numpy as np\n",
    "import pandas as pd\n",
    "from sklearn.model_selection import train_test_split\n",
    "from sklearn.linear_model import LogisticRegression\n",
    "from sklearn.metrics import confusion_matrix, classification_report\n",
    "from statistics import mode\n",
    "import re\n",
    "from xgboost import XGBClassifier"
   ]
  },
  {
   "cell_type": "code",
   "execution_count": 2,
   "metadata": {},
   "outputs": [],
   "source": [
    "#Load dataset - https://www.kaggle.com/nsharan/h-1b-visa/data \n",
    "df = pd.read_csv('/Users/rutu/Desktop/Data Science study materials/PROJECTS /Python Project/h1b_kaggle.csv')"
   ]
  },
  {
   "cell_type": "code",
   "execution_count": 4,
   "metadata": {},
   "outputs": [
    {
     "name": "stdout",
     "output_type": "stream",
     "text": [
      "<class 'pandas.core.frame.DataFrame'>\n",
      "RangeIndex: 3002458 entries, 0 to 3002457\n",
      "Data columns (total 11 columns):\n",
      "Unnamed: 0            int64\n",
      "CASE_STATUS           object\n",
      "EMPLOYER_NAME         object\n",
      "SOC_NAME              object\n",
      "JOB_TITLE             object\n",
      "FULL_TIME_POSITION    object\n",
      "PREVAILING_WAGE       float64\n",
      "YEAR                  float64\n",
      "WORKSITE              object\n",
      "lon                   float64\n",
      "lat                   float64\n",
      "dtypes: float64(4), int64(1), object(6)\n",
      "memory usage: 252.0+ MB\n"
     ]
    },
    {
     "data": {
      "text/html": [
       "<div>\n",
       "<style scoped>\n",
       "    .dataframe tbody tr th:only-of-type {\n",
       "        vertical-align: middle;\n",
       "    }\n",
       "\n",
       "    .dataframe tbody tr th {\n",
       "        vertical-align: top;\n",
       "    }\n",
       "\n",
       "    .dataframe thead th {\n",
       "        text-align: right;\n",
       "    }\n",
       "</style>\n",
       "<table border=\"1\" class=\"dataframe\">\n",
       "  <thead>\n",
       "    <tr style=\"text-align: right;\">\n",
       "      <th></th>\n",
       "      <th>Unnamed: 0</th>\n",
       "      <th>PREVAILING_WAGE</th>\n",
       "      <th>YEAR</th>\n",
       "      <th>lon</th>\n",
       "      <th>lat</th>\n",
       "    </tr>\n",
       "  </thead>\n",
       "  <tbody>\n",
       "    <tr>\n",
       "      <th>count</th>\n",
       "      <td>3.002458e+06</td>\n",
       "      <td>3.002373e+06</td>\n",
       "      <td>3.002445e+06</td>\n",
       "      <td>2.895216e+06</td>\n",
       "      <td>2.895216e+06</td>\n",
       "    </tr>\n",
       "    <tr>\n",
       "      <th>mean</th>\n",
       "      <td>1.501230e+06</td>\n",
       "      <td>1.469984e+05</td>\n",
       "      <td>2.013855e+03</td>\n",
       "      <td>-9.213441e+01</td>\n",
       "      <td>3.816054e+01</td>\n",
       "    </tr>\n",
       "    <tr>\n",
       "      <th>std</th>\n",
       "      <td>8.667351e+05</td>\n",
       "      <td>5.287609e+06</td>\n",
       "      <td>1.680612e+00</td>\n",
       "      <td>1.965591e+01</td>\n",
       "      <td>4.672835e+00</td>\n",
       "    </tr>\n",
       "    <tr>\n",
       "      <th>min</th>\n",
       "      <td>1.000000e+00</td>\n",
       "      <td>0.000000e+00</td>\n",
       "      <td>2.011000e+03</td>\n",
       "      <td>-1.578583e+02</td>\n",
       "      <td>1.343719e+01</td>\n",
       "    </tr>\n",
       "    <tr>\n",
       "      <th>25%</th>\n",
       "      <td>7.506152e+05</td>\n",
       "      <td>5.437100e+04</td>\n",
       "      <td>2.012000e+03</td>\n",
       "      <td>-1.119261e+02</td>\n",
       "      <td>3.416536e+01</td>\n",
       "    </tr>\n",
       "    <tr>\n",
       "      <th>50%</th>\n",
       "      <td>1.501230e+06</td>\n",
       "      <td>6.502100e+04</td>\n",
       "      <td>2.014000e+03</td>\n",
       "      <td>-8.615862e+01</td>\n",
       "      <td>3.910312e+01</td>\n",
       "    </tr>\n",
       "    <tr>\n",
       "      <th>75%</th>\n",
       "      <td>2.251844e+06</td>\n",
       "      <td>8.143200e+04</td>\n",
       "      <td>2.015000e+03</td>\n",
       "      <td>-7.551381e+01</td>\n",
       "      <td>4.088374e+01</td>\n",
       "    </tr>\n",
       "    <tr>\n",
       "      <th>max</th>\n",
       "      <td>3.002458e+06</td>\n",
       "      <td>6.997607e+09</td>\n",
       "      <td>2.016000e+03</td>\n",
       "      <td>1.457298e+02</td>\n",
       "      <td>6.483778e+01</td>\n",
       "    </tr>\n",
       "  </tbody>\n",
       "</table>\n",
       "</div>"
      ],
      "text/plain": [
       "         Unnamed: 0  PREVAILING_WAGE          YEAR           lon           lat\n",
       "count  3.002458e+06     3.002373e+06  3.002445e+06  2.895216e+06  2.895216e+06\n",
       "mean   1.501230e+06     1.469984e+05  2.013855e+03 -9.213441e+01  3.816054e+01\n",
       "std    8.667351e+05     5.287609e+06  1.680612e+00  1.965591e+01  4.672835e+00\n",
       "min    1.000000e+00     0.000000e+00  2.011000e+03 -1.578583e+02  1.343719e+01\n",
       "25%    7.506152e+05     5.437100e+04  2.012000e+03 -1.119261e+02  3.416536e+01\n",
       "50%    1.501230e+06     6.502100e+04  2.014000e+03 -8.615862e+01  3.910312e+01\n",
       "75%    2.251844e+06     8.143200e+04  2.015000e+03 -7.551381e+01  4.088374e+01\n",
       "max    3.002458e+06     6.997607e+09  2.016000e+03  1.457298e+02  6.483778e+01"
      ]
     },
     "execution_count": 4,
     "metadata": {},
     "output_type": "execute_result"
    }
   ],
   "source": [
    "#Understanding data \n",
    "df.info()\n",
    "df.head()\n",
    "df.describe()"
   ]
  },
  {
   "cell_type": "code",
   "execution_count": 12,
   "metadata": {},
   "outputs": [
    {
     "data": {
      "text/plain": [
       "['CASE_ID',\n",
       " 'CASE_STATUS',\n",
       " 'EMPLOYER_NAME',\n",
       " 'SOC_NAME',\n",
       " 'JOB_TITLE',\n",
       " 'FULL_TIME_POSITION',\n",
       " 'PREVAILING_WAGE',\n",
       " 'YEAR',\n",
       " 'WORKSITE',\n",
       " 'lon',\n",
       " 'lat']"
      ]
     },
     "execution_count": 12,
     "metadata": {},
     "output_type": "execute_result"
    }
   ],
   "source": [
    "list(df)"
   ]
  },
  {
   "cell_type": "code",
   "execution_count": 11,
   "metadata": {},
   "outputs": [],
   "source": [
    "df.rename( columns={'Unnamed: 0':'CASE_ID'}, inplace=True )"
   ]
  },
  {
   "cell_type": "code",
   "execution_count": 14,
   "metadata": {},
   "outputs": [
    {
     "data": {
      "text/plain": [
       "array(['CERTIFIED-WITHDRAWN', 'WITHDRAWN', 'CERTIFIED', 'DENIED',\n",
       "       'REJECTED', 'INVALIDATED',\n",
       "       'PENDING QUALITY AND COMPLIANCE REVIEW - UNASSIGNED', nan],\n",
       "      dtype=object)"
      ]
     },
     "execution_count": 14,
     "metadata": {},
     "output_type": "execute_result"
    }
   ],
   "source": [
    "#CASE_STATUS target variable\n",
    "df['CASE_STATUS'].unique()"
   ]
  },
  {
   "cell_type": "code",
   "execution_count": 21,
   "metadata": {},
   "outputs": [
    {
     "data": {
      "text/plain": [
       "CERTIFIED    2818282\n",
       "DENIED         94364\n",
       "WITHDRAWN      89799\n",
       "Name: CASE_STATUS, dtype: int64"
      ]
     },
     "execution_count": 21,
     "metadata": {},
     "output_type": "execute_result"
    }
   ],
   "source": [
    "df['CASE_STATUS'].value_counts()"
   ]
  },
  {
   "cell_type": "code",
   "execution_count": 20,
   "metadata": {},
   "outputs": [],
   "source": [
    "#Data Preprocessing\n",
    "import warnings\n",
    "warnings.filterwarnings(\"ignore\")\n",
    "df.CASE_STATUS[df['CASE_STATUS']=='REJECTED'] = 'DENIED'\n",
    "df.CASE_STATUS[df['CASE_STATUS']=='INVALIDATED'] = 'DENIED'\n",
    "df.CASE_STATUS[df['CASE_STATUS']=='PENDING QUALITY AND COMPLIANCE REVIEW - UNASSIGNED'] = 'DENIED'\n",
    "df.CASE_STATUS[df['CASE_STATUS']=='CERTIFIED-WITHDRAWN'] = 'CERTIFIED'"
   ]
  },
  {
   "cell_type": "code",
   "execution_count": 23,
   "metadata": {},
   "outputs": [
    {
     "data": {
      "text/plain": [
       "count             2912628\n",
       "unique             234089\n",
       "top       INFOSYS LIMITED\n",
       "freq               130317\n",
       "Name: EMPLOYER_NAME, dtype: object"
      ]
     },
     "execution_count": 23,
     "metadata": {},
     "output_type": "execute_result"
    }
   ],
   "source": [
    "##Drop rows with withdrawn\n",
    "df = df.drop(df[df.CASE_STATUS == 'WITHDRAWN'].index)"
   ]
  },
  {
   "cell_type": "code",
   "execution_count": 24,
   "metadata": {},
   "outputs": [
    {
     "name": "stdout",
     "output_type": "stream",
     "text": [
      "CERTIFIED    2818282\n",
      "DENIED         94364\n",
      "Name: CASE_STATUS, dtype: int64\n"
     ]
    }
   ],
   "source": [
    "#Handling missing value \n",
    "##Storing non null in df w.r.t. case status\n",
    "df = df[df['CASE_STATUS'].notnull()]\n",
    "print(df['CASE_STATUS'].value_counts())"
   ]
  },
  {
   "cell_type": "code",
   "execution_count": 25,
   "metadata": {},
   "outputs": [
    {
     "name": "stdout",
     "output_type": "stream",
     "text": [
      "0.032398032579311044\n"
     ]
    }
   ],
   "source": [
    "print(94364/(2818282+94364))"
   ]
  },
  {
   "cell_type": "code",
   "execution_count": 45,
   "metadata": {},
   "outputs": [
    {
     "name": "stdout",
     "output_type": "stream",
     "text": [
      "CASE_ID                    0\n",
      "CASE_STATUS                0\n",
      "EMPLOYER_NAME              0\n",
      "SOC_NAME                   0\n",
      "JOB_TITLE                  0\n",
      "FULL_TIME_POSITION         0\n",
      "PREVAILING_WAGE            0\n",
      "YEAR                       0\n",
      "WORKSITE                   0\n",
      "lon                   102844\n",
      "lat                   102844\n",
      "dtype: int64\n"
     ]
    }
   ],
   "source": [
    "##check count of NAN\n",
    "count_nan = len(df) - df.count()\n",
    "print(count_nan)"
   ]
  },
  {
   "cell_type": "code",
   "execution_count": 29,
   "metadata": {},
   "outputs": [],
   "source": [
    "##Filling na in employer name with mode\n",
    "df['EMPLOYER_NAME'] = df['EMPLOYER_NAME'].fillna(df['EMPLOYER_NAME'].mode()[0])"
   ]
  },
  {
   "cell_type": "code",
   "execution_count": 37,
   "metadata": {},
   "outputs": [
    {
     "data": {
      "text/plain": [
       "count    2.912593e+06\n",
       "mean     1.428910e+05\n",
       "std      5.282312e+06\n",
       "min      0.000000e+00\n",
       "25%      5.441300e+04\n",
       "50%      6.500000e+04\n",
       "75%      8.143200e+04\n",
       "max      6.997607e+09\n",
       "Name: PREVAILING_WAGE, dtype: float64"
      ]
     },
     "execution_count": 37,
     "metadata": {},
     "output_type": "execute_result"
    }
   ],
   "source": [
    "df.PREVAILING_WAGE.describe()"
   ]
  },
  {
   "cell_type": "code",
   "execution_count": 38,
   "metadata": {},
   "outputs": [
    {
     "data": {
      "text/plain": [
       "65000.0"
      ]
     },
     "execution_count": 38,
     "metadata": {},
     "output_type": "execute_result"
    }
   ],
   "source": [
    "df.PREVAILING_WAGE.median()"
   ]
  },
  {
   "cell_type": "code",
   "execution_count": 39,
   "metadata": {},
   "outputs": [
    {
     "name": "stdout",
     "output_type": "stream",
     "text": [
      "138611.0\n",
      "34028.8\n"
     ]
    }
   ],
   "source": [
    "##to check the percentile in wages\n",
    "print(np.nanpercentile(df.PREVAILING_WAGE,98))\n",
    "print(np.nanpercentile(df.PREVAILING_WAGE,2))"
   ]
  },
  {
   "cell_type": "code",
   "execution_count": 40,
   "metadata": {},
   "outputs": [],
   "source": [
    "## replacing min and max with 2 and 98 percentile\n",
    "df.loc[df.PREVAILING_WAGE < 34028.8, 'PREVAILING_WAGE']= 34028.8\n",
    "df.loc[df['PREVAILING_WAGE'] > 138611, 'PREVAILING_WAGE']= 138611\n",
    "df.PREVAILING_WAGE.fillna(df.PREVAILING_WAGE.mean(), inplace = True)"
   ]
  },
  {
   "cell_type": "code",
   "execution_count": 41,
   "metadata": {},
   "outputs": [
    {
     "data": {
      "text/plain": [
       "count    2.912646e+06\n",
       "mean     6.984460e+04\n",
       "std      2.284287e+04\n",
       "min      3.402880e+04\n",
       "25%      5.441300e+04\n",
       "50%      6.500000e+04\n",
       "75%      8.143200e+04\n",
       "max      1.386110e+05\n",
       "Name: PREVAILING_WAGE, dtype: float64"
      ]
     },
     "execution_count": 41,
     "metadata": {},
     "output_type": "execute_result"
    }
   ],
   "source": [
    "df.PREVAILING_WAGE.describe()"
   ]
  },
  {
   "cell_type": "code",
   "execution_count": 42,
   "metadata": {},
   "outputs": [],
   "source": [
    "## Filling na in JOB_TITLE and FULL_TIME_POSITION with mode\n",
    "df['JOB_TITLE'] = df['JOB_TITLE'].fillna(df['JOB_TITLE'].mode()[0])\n",
    "df['FULL_TIME_POSITION'] = df['FULL_TIME_POSITION'].fillna(df['FULL_TIME_POSITION'].mode()[0])\n",
    "df['SOC_NAME'] = df['SOC_NAME'].fillna(df['SOC_NAME'].mode()[0])"
   ]
  },
  {
   "cell_type": "code",
   "execution_count": 46,
   "metadata": {},
   "outputs": [],
   "source": [
    "# Dropping lat and lon columns\n",
    "df = df.drop('lat', axis = 1)\n",
    "df = df.drop('lon', axis = 1)\n"
   ]
  },
  {
   "cell_type": "code",
   "execution_count": 47,
   "metadata": {},
   "outputs": [
    {
     "data": {
      "text/plain": [
       "INFOSYS LIMITED                                       130335\n",
       "TATA CONSULTANCY SERVICES LIMITED                      64418\n",
       "WIPRO LIMITED                                          47497\n",
       "DELOITTE CONSULTING LLP                                36675\n",
       "ACCENTURE LLP                                          33316\n",
       "IBM INDIA PRIVATE LIMITED                              30426\n",
       "MICROSOFT CORPORATION                                  25128\n",
       "HCL AMERICA, INC.                                      22608\n",
       "ERNST & YOUNG U.S. LLP                                 18220\n",
       "LARSEN & TOUBRO INFOTECH LIMITED                       16906\n",
       "CAPGEMINI AMERICA INC                                  16458\n",
       "COGNIZANT TECHNOLOGY SOLUTIONS U.S. CORPORATION        16457\n",
       "GOOGLE INC.                                            16104\n",
       "IGATE TECHNOLOGIES INC.                                12263\n",
       "IBM CORPORATION                                        11877\n",
       "TECH MAHINDRA (AMERICAS),INC.                          10682\n",
       "INTEL CORPORATION                                      10649\n",
       "DELOITTE & TOUCHE LLP                                   9610\n",
       "AMAZON CORPORATE LLC                                    8694\n",
       "ORACLE AMERICA, INC.                                    7571\n",
       "APPLE INC.                                              7205\n",
       "JPMORGAN CHASE & CO.                                    6879\n",
       "TECH MAHINDRA (AMERICAS), INC.                          6632\n",
       "UST GLOBAL INC.                                         6142\n",
       "UST GLOBAL INC                                          6048\n",
       "QUALCOMM TECHNOLOGIES, INC.                             5886\n",
       "HEXAWARE TECHNOLOGIES, INC.                             5257\n",
       "MASTECH, INC., A MASTECH HOLDINGS, INC. COMPANY         5216\n",
       "FUJITSU AMERICA, INC.                                   5205\n",
       "MPHASIS CORPORATION                                     5177\n",
       "                                                       ...  \n",
       "ST. JOSEPH'S MERCY CLINIC INC.                             1\n",
       "RYBAK ARCHITECTS, P.C.                                     1\n",
       "NEW BEGINNINGS FAMILY ACADEMY INC.                         1\n",
       "FUNGYUN INC.                                               1\n",
       "TRADENET ENTERPRISE INC.                                   1\n",
       "KANA ENERGY SERVICES, INC.                                 1\n",
       "NATIONAL INVESTOR RELATIONS INSTITUTE                      1\n",
       "EPT LEGAL, LLC                                             1\n",
       "AFYA GROUP, LLC                                            1\n",
       "ISA CHICAGO WHOLESALE INC.                                 1\n",
       "JOSHI TECHNOLOGIES INTERNATIONAL, INC                      1\n",
       "DEVQ SOLUTIONS, INC.                                       1\n",
       "COLUMBIA COUNTRY CLUB                                      1\n",
       "UNITED MEDICAL LABORATORY, INC.                            1\n",
       "BOSTON CONSULTING SOLUTIONS INC                            1\n",
       "DREAM AND SPACE CONSTRUCTION INC.                          1\n",
       "CLOUD CANYON CORPORATION                                   1\n",
       "QUANTUM ENERGY SERVICES & TECHNOLOGIES,  INC.              1\n",
       "WIN LUCK TRADING INC                                       1\n",
       "ASAMO COSMETIC INTERNATIONAL CORP                          1\n",
       "DRIZLY INC.                                                1\n",
       "LOCHWOOD-LOZIER REMODELING LLC                             1\n",
       "PLANE TRUTH GOLF INSTITUTE, LLC                            1\n",
       "RENAISSANCE CHARTER HIGH SCHOOL FOR INNOVATION             1\n",
       "DEAWM DISTRIBUTORS, INC.                                   1\n",
       "LOGIC SOLUTIONS INC                                        1\n",
       "SPORTS AND ORTHO PHYSICAL THERAPY AND SPORTS MEDIC         1\n",
       "TRAVEL SOLUTIONS, INC.                                     1\n",
       "SAMSUNGI INFORMATION SYSTEMS AMERICA, INC.                 1\n",
       "TREGARON INDA HOLDINGS LLC                                 1\n",
       "Name: EMPLOYER_NAME, Length: 234089, dtype: int64"
      ]
     },
     "execution_count": 47,
     "metadata": {},
     "output_type": "execute_result"
    }
   ],
   "source": [
    "df['EMPLOYER_NAME'].value_counts()"
   ]
  },
  {
   "cell_type": "code",
   "execution_count": 48,
   "metadata": {},
   "outputs": [],
   "source": [
    "#Feature Creation\n",
    "df['NEW_EMPLOYER'] = np.nan"
   ]
  },
  {
   "cell_type": "code",
   "execution_count": 49,
   "metadata": {},
   "outputs": [
    {
     "data": {
      "text/html": [
       "<div>\n",
       "<style scoped>\n",
       "    .dataframe tbody tr th:only-of-type {\n",
       "        vertical-align: middle;\n",
       "    }\n",
       "\n",
       "    .dataframe tbody tr th {\n",
       "        vertical-align: top;\n",
       "    }\n",
       "\n",
       "    .dataframe thead th {\n",
       "        text-align: right;\n",
       "    }\n",
       "</style>\n",
       "<table border=\"1\" class=\"dataframe\">\n",
       "  <thead>\n",
       "    <tr style=\"text-align: right;\">\n",
       "      <th></th>\n",
       "      <th>CASE_ID</th>\n",
       "      <th>CASE_STATUS</th>\n",
       "      <th>EMPLOYER_NAME</th>\n",
       "      <th>SOC_NAME</th>\n",
       "      <th>JOB_TITLE</th>\n",
       "      <th>FULL_TIME_POSITION</th>\n",
       "      <th>PREVAILING_WAGE</th>\n",
       "      <th>YEAR</th>\n",
       "      <th>WORKSITE</th>\n",
       "      <th>NEW_EMPLOYER</th>\n",
       "    </tr>\n",
       "  </thead>\n",
       "  <tbody>\n",
       "    <tr>\n",
       "      <th>0</th>\n",
       "      <td>1</td>\n",
       "      <td>CERTIFIED</td>\n",
       "      <td>UNIVERSITY OF MICHIGAN</td>\n",
       "      <td>BIOCHEMISTS AND BIOPHYSICISTS</td>\n",
       "      <td>POSTDOCTORAL RESEARCH FELLOW</td>\n",
       "      <td>N</td>\n",
       "      <td>36067.0</td>\n",
       "      <td>2016.0</td>\n",
       "      <td>ANN ARBOR, MICHIGAN</td>\n",
       "      <td>NaN</td>\n",
       "    </tr>\n",
       "    <tr>\n",
       "      <th>1</th>\n",
       "      <td>2</td>\n",
       "      <td>CERTIFIED</td>\n",
       "      <td>GOODMAN NETWORKS, INC.</td>\n",
       "      <td>CHIEF EXECUTIVES</td>\n",
       "      <td>CHIEF OPERATING OFFICER</td>\n",
       "      <td>Y</td>\n",
       "      <td>138611.0</td>\n",
       "      <td>2016.0</td>\n",
       "      <td>PLANO, TEXAS</td>\n",
       "      <td>NaN</td>\n",
       "    </tr>\n",
       "    <tr>\n",
       "      <th>2</th>\n",
       "      <td>3</td>\n",
       "      <td>CERTIFIED</td>\n",
       "      <td>PORTS AMERICA GROUP, INC.</td>\n",
       "      <td>CHIEF EXECUTIVES</td>\n",
       "      <td>CHIEF PROCESS OFFICER</td>\n",
       "      <td>Y</td>\n",
       "      <td>138611.0</td>\n",
       "      <td>2016.0</td>\n",
       "      <td>JERSEY CITY, NEW JERSEY</td>\n",
       "      <td>NaN</td>\n",
       "    </tr>\n",
       "    <tr>\n",
       "      <th>3</th>\n",
       "      <td>4</td>\n",
       "      <td>CERTIFIED</td>\n",
       "      <td>GATES CORPORATION, A WHOLLY-OWNED SUBSIDIARY O...</td>\n",
       "      <td>CHIEF EXECUTIVES</td>\n",
       "      <td>REGIONAL PRESIDEN, AMERICAS</td>\n",
       "      <td>Y</td>\n",
       "      <td>138611.0</td>\n",
       "      <td>2016.0</td>\n",
       "      <td>DENVER, COLORADO</td>\n",
       "      <td>NaN</td>\n",
       "    </tr>\n",
       "    <tr>\n",
       "      <th>5</th>\n",
       "      <td>6</td>\n",
       "      <td>CERTIFIED</td>\n",
       "      <td>BURGER KING CORPORATION</td>\n",
       "      <td>CHIEF EXECUTIVES</td>\n",
       "      <td>EXECUTIVE V P, GLOBAL DEVELOPMENT AND PRESIDEN...</td>\n",
       "      <td>Y</td>\n",
       "      <td>138611.0</td>\n",
       "      <td>2016.0</td>\n",
       "      <td>MIAMI, FLORIDA</td>\n",
       "      <td>NaN</td>\n",
       "    </tr>\n",
       "  </tbody>\n",
       "</table>\n",
       "</div>"
      ],
      "text/plain": [
       "   CASE_ID CASE_STATUS                                      EMPLOYER_NAME  \\\n",
       "0        1   CERTIFIED                             UNIVERSITY OF MICHIGAN   \n",
       "1        2   CERTIFIED                             GOODMAN NETWORKS, INC.   \n",
       "2        3   CERTIFIED                          PORTS AMERICA GROUP, INC.   \n",
       "3        4   CERTIFIED  GATES CORPORATION, A WHOLLY-OWNED SUBSIDIARY O...   \n",
       "5        6   CERTIFIED                            BURGER KING CORPORATION   \n",
       "\n",
       "                        SOC_NAME  \\\n",
       "0  BIOCHEMISTS AND BIOPHYSICISTS   \n",
       "1               CHIEF EXECUTIVES   \n",
       "2               CHIEF EXECUTIVES   \n",
       "3               CHIEF EXECUTIVES   \n",
       "5               CHIEF EXECUTIVES   \n",
       "\n",
       "                                           JOB_TITLE FULL_TIME_POSITION  \\\n",
       "0                       POSTDOCTORAL RESEARCH FELLOW                  N   \n",
       "1                            CHIEF OPERATING OFFICER                  Y   \n",
       "2                              CHIEF PROCESS OFFICER                  Y   \n",
       "3                        REGIONAL PRESIDEN, AMERICAS                  Y   \n",
       "5  EXECUTIVE V P, GLOBAL DEVELOPMENT AND PRESIDEN...                  Y   \n",
       "\n",
       "   PREVAILING_WAGE    YEAR                 WORKSITE  NEW_EMPLOYER  \n",
       "0          36067.0  2016.0      ANN ARBOR, MICHIGAN           NaN  \n",
       "1         138611.0  2016.0             PLANO, TEXAS           NaN  \n",
       "2         138611.0  2016.0  JERSEY CITY, NEW JERSEY           NaN  \n",
       "3         138611.0  2016.0         DENVER, COLORADO           NaN  \n",
       "5         138611.0  2016.0           MIAMI, FLORIDA           NaN  "
      ]
     },
     "execution_count": 49,
     "metadata": {},
     "output_type": "execute_result"
    }
   ],
   "source": [
    "df.head(5)"
   ]
  },
  {
   "cell_type": "code",
   "execution_count": 50,
   "metadata": {},
   "outputs": [],
   "source": [
    "##the applications submitted by universities are generaly certified and accepted \n",
    "df['EMPLOYER_NAME'] = df['EMPLOYER_NAME'].str.lower()"
   ]
  },
  {
   "cell_type": "code",
   "execution_count": 51,
   "metadata": {},
   "outputs": [],
   "source": [
    "df.NEW_EMPLOYER[df['EMPLOYER_NAME'].str.contains('university')] = 'university'\n"
   ]
  },
  {
   "cell_type": "code",
   "execution_count": 52,
   "metadata": {},
   "outputs": [],
   "source": [
    "df['NEW_EMPLOYER']= df.NEW_EMPLOYER.replace(np.nan, 'non university', regex=True)"
   ]
  },
  {
   "cell_type": "code",
   "execution_count": 53,
   "metadata": {},
   "outputs": [],
   "source": [
    "# Creating occupation and mapping the values\n",
    "\n",
    "df['OCCUPATION'] = np.nan\n",
    "df['SOC_NAME'] = df['SOC_NAME'].str.lower()\n",
    "df.OCCUPATION[df['SOC_NAME'].str.contains('computer','programmer')] = 'computer occupations'\n",
    "df.OCCUPATION[df['SOC_NAME'].str.contains('software','web developer')] = 'computer occupations'\n",
    "df.OCCUPATION[df['SOC_NAME'].str.contains('database')] = 'computer occupations'\n",
    "df.OCCUPATION[df['SOC_NAME'].str.contains('math','statistic')] = 'Mathematical Occupations'\n",
    "df.OCCUPATION[df['SOC_NAME'].str.contains('predictive model','stats')] = 'Mathematical Occupations'\n",
    "df.OCCUPATION[df['SOC_NAME'].str.contains('teacher','linguist')] = 'Education Occupations'\n",
    "df.OCCUPATION[df['SOC_NAME'].str.contains('professor','Teach')] = 'Education Occupations'\n",
    "df.OCCUPATION[df['SOC_NAME'].str.contains('school principal')] = 'Education Occupations'\n",
    "df.OCCUPATION[df['SOC_NAME'].str.contains('medical','doctor')] = 'Medical Occupations'\n",
    "df.OCCUPATION[df['SOC_NAME'].str.contains('physician','dentist')] = 'Medical Occupations'\n",
    "df.OCCUPATION[df['SOC_NAME'].str.contains('Health','Physical Therapists')] = 'Medical Occupations'\n",
    "df.OCCUPATION[df['SOC_NAME'].str.contains('surgeon','nurse')] = 'Medical Occupations'\n",
    "df.OCCUPATION[df['SOC_NAME'].str.contains('psychiatr')] = 'Medical Occupations'\n",
    "df.OCCUPATION[df['SOC_NAME'].str.contains('chemist','physicist')] = 'Advance Sciences'\n",
    "df.OCCUPATION[df['SOC_NAME'].str.contains('biology','scientist')] = 'Advance Sciences'\n",
    "df.OCCUPATION[df['SOC_NAME'].str.contains('biologi','clinical research')] = 'Advance Sciences'\n",
    "df.OCCUPATION[df['SOC_NAME'].str.contains('public relation','manage')] = 'Management Occupation'\n",
    "df.OCCUPATION[df['SOC_NAME'].str.contains('management','operation')] = 'Management Occupation'\n",
    "df.OCCUPATION[df['SOC_NAME'].str.contains('chief','plan')] = 'Management Occupation'\n",
    "df.OCCUPATION[df['SOC_NAME'].str.contains('executive')] = 'Management Occupation'\n",
    "df.OCCUPATION[df['SOC_NAME'].str.contains('advertis','marketing')] = 'Marketing Occupation'\n",
    "df.OCCUPATION[df['SOC_NAME'].str.contains('promotion','market research')] = 'Marketing Occupation'\n",
    "df.OCCUPATION[df['SOC_NAME'].str.contains('business','business analyst')] = 'Business Occupation'\n",
    "df.OCCUPATION[df['SOC_NAME'].str.contains('business systems analyst')] = 'Business Occupation'\n",
    "df.OCCUPATION[df['SOC_NAME'].str.contains('accountant','finance')] = 'Financial Occupation'\n",
    "df.OCCUPATION[df['SOC_NAME'].str.contains('financial')] = 'Financial Occupation'\n",
    "df.OCCUPATION[df['SOC_NAME'].str.contains('engineer','architect')] = 'Architecture & Engineering'\n",
    "df.OCCUPATION[df['SOC_NAME'].str.contains('surveyor','carto')] = 'Architecture & Engineering'\n",
    "df.OCCUPATION[df['SOC_NAME'].str.contains('technician','drafter')] = 'Architecture & Engineering'\n",
    "df.OCCUPATION[df['SOC_NAME'].str.contains('information security','information tech')] = 'Architecture & Engineering'\n",
    "df['OCCUPATION']= df.OCCUPATION.replace(np.nan, 'Others', regex=True)\n"
   ]
  },
  {
   "cell_type": "code",
   "execution_count": 54,
   "metadata": {},
   "outputs": [],
   "source": [
    "#visa applications majorly depend on State location\n",
    "## Splitting city and state and capturing state in another variable\n",
    "df['state'] = df.WORKSITE.str.split('\\s+').str[-1]"
   ]
  },
  {
   "cell_type": "code",
   "execution_count": 55,
   "metadata": {},
   "outputs": [
    {
     "data": {
      "text/html": [
       "<div>\n",
       "<style scoped>\n",
       "    .dataframe tbody tr th:only-of-type {\n",
       "        vertical-align: middle;\n",
       "    }\n",
       "\n",
       "    .dataframe tbody tr th {\n",
       "        vertical-align: top;\n",
       "    }\n",
       "\n",
       "    .dataframe thead th {\n",
       "        text-align: right;\n",
       "    }\n",
       "</style>\n",
       "<table border=\"1\" class=\"dataframe\">\n",
       "  <thead>\n",
       "    <tr style=\"text-align: right;\">\n",
       "      <th></th>\n",
       "      <th>CASE_ID</th>\n",
       "      <th>CASE_STATUS</th>\n",
       "      <th>EMPLOYER_NAME</th>\n",
       "      <th>SOC_NAME</th>\n",
       "      <th>JOB_TITLE</th>\n",
       "      <th>FULL_TIME_POSITION</th>\n",
       "      <th>PREVAILING_WAGE</th>\n",
       "      <th>YEAR</th>\n",
       "      <th>WORKSITE</th>\n",
       "      <th>NEW_EMPLOYER</th>\n",
       "      <th>OCCUPATION</th>\n",
       "      <th>state</th>\n",
       "    </tr>\n",
       "  </thead>\n",
       "  <tbody>\n",
       "    <tr>\n",
       "      <th>0</th>\n",
       "      <td>1</td>\n",
       "      <td>CERTIFIED</td>\n",
       "      <td>university of michigan</td>\n",
       "      <td>biochemists and biophysicists</td>\n",
       "      <td>POSTDOCTORAL RESEARCH FELLOW</td>\n",
       "      <td>N</td>\n",
       "      <td>36067.0</td>\n",
       "      <td>2016.0</td>\n",
       "      <td>ANN ARBOR, MICHIGAN</td>\n",
       "      <td>university</td>\n",
       "      <td>Advance Sciences</td>\n",
       "      <td>MICHIGAN</td>\n",
       "    </tr>\n",
       "    <tr>\n",
       "      <th>1</th>\n",
       "      <td>2</td>\n",
       "      <td>CERTIFIED</td>\n",
       "      <td>goodman networks, inc.</td>\n",
       "      <td>chief executives</td>\n",
       "      <td>CHIEF OPERATING OFFICER</td>\n",
       "      <td>Y</td>\n",
       "      <td>138611.0</td>\n",
       "      <td>2016.0</td>\n",
       "      <td>PLANO, TEXAS</td>\n",
       "      <td>non university</td>\n",
       "      <td>Management Occupation</td>\n",
       "      <td>TEXAS</td>\n",
       "    </tr>\n",
       "    <tr>\n",
       "      <th>2</th>\n",
       "      <td>3</td>\n",
       "      <td>CERTIFIED</td>\n",
       "      <td>ports america group, inc.</td>\n",
       "      <td>chief executives</td>\n",
       "      <td>CHIEF PROCESS OFFICER</td>\n",
       "      <td>Y</td>\n",
       "      <td>138611.0</td>\n",
       "      <td>2016.0</td>\n",
       "      <td>JERSEY CITY, NEW JERSEY</td>\n",
       "      <td>non university</td>\n",
       "      <td>Management Occupation</td>\n",
       "      <td>JERSEY</td>\n",
       "    </tr>\n",
       "    <tr>\n",
       "      <th>3</th>\n",
       "      <td>4</td>\n",
       "      <td>CERTIFIED</td>\n",
       "      <td>gates corporation, a wholly-owned subsidiary o...</td>\n",
       "      <td>chief executives</td>\n",
       "      <td>REGIONAL PRESIDEN, AMERICAS</td>\n",
       "      <td>Y</td>\n",
       "      <td>138611.0</td>\n",
       "      <td>2016.0</td>\n",
       "      <td>DENVER, COLORADO</td>\n",
       "      <td>non university</td>\n",
       "      <td>Management Occupation</td>\n",
       "      <td>COLORADO</td>\n",
       "    </tr>\n",
       "    <tr>\n",
       "      <th>5</th>\n",
       "      <td>6</td>\n",
       "      <td>CERTIFIED</td>\n",
       "      <td>burger king corporation</td>\n",
       "      <td>chief executives</td>\n",
       "      <td>EXECUTIVE V P, GLOBAL DEVELOPMENT AND PRESIDEN...</td>\n",
       "      <td>Y</td>\n",
       "      <td>138611.0</td>\n",
       "      <td>2016.0</td>\n",
       "      <td>MIAMI, FLORIDA</td>\n",
       "      <td>non university</td>\n",
       "      <td>Management Occupation</td>\n",
       "      <td>FLORIDA</td>\n",
       "    </tr>\n",
       "  </tbody>\n",
       "</table>\n",
       "</div>"
      ],
      "text/plain": [
       "   CASE_ID CASE_STATUS                                      EMPLOYER_NAME  \\\n",
       "0        1   CERTIFIED                             university of michigan   \n",
       "1        2   CERTIFIED                             goodman networks, inc.   \n",
       "2        3   CERTIFIED                          ports america group, inc.   \n",
       "3        4   CERTIFIED  gates corporation, a wholly-owned subsidiary o...   \n",
       "5        6   CERTIFIED                            burger king corporation   \n",
       "\n",
       "                        SOC_NAME  \\\n",
       "0  biochemists and biophysicists   \n",
       "1               chief executives   \n",
       "2               chief executives   \n",
       "3               chief executives   \n",
       "5               chief executives   \n",
       "\n",
       "                                           JOB_TITLE FULL_TIME_POSITION  \\\n",
       "0                       POSTDOCTORAL RESEARCH FELLOW                  N   \n",
       "1                            CHIEF OPERATING OFFICER                  Y   \n",
       "2                              CHIEF PROCESS OFFICER                  Y   \n",
       "3                        REGIONAL PRESIDEN, AMERICAS                  Y   \n",
       "5  EXECUTIVE V P, GLOBAL DEVELOPMENT AND PRESIDEN...                  Y   \n",
       "\n",
       "   PREVAILING_WAGE    YEAR                 WORKSITE    NEW_EMPLOYER  \\\n",
       "0          36067.0  2016.0      ANN ARBOR, MICHIGAN      university   \n",
       "1         138611.0  2016.0             PLANO, TEXAS  non university   \n",
       "2         138611.0  2016.0  JERSEY CITY, NEW JERSEY  non university   \n",
       "3         138611.0  2016.0         DENVER, COLORADO  non university   \n",
       "5         138611.0  2016.0           MIAMI, FLORIDA  non university   \n",
       "\n",
       "              OCCUPATION     state  \n",
       "0       Advance Sciences  MICHIGAN  \n",
       "1  Management Occupation     TEXAS  \n",
       "2  Management Occupation    JERSEY  \n",
       "3  Management Occupation  COLORADO  \n",
       "5  Management Occupation   FLORIDA  "
      ]
     },
     "execution_count": 55,
     "metadata": {},
     "output_type": "execute_result"
    }
   ],
   "source": [
    "df.head(5)"
   ]
  },
  {
   "cell_type": "code",
   "execution_count": 56,
   "metadata": {},
   "outputs": [],
   "source": [
    "#Convert target variable to binary\n",
    "from sklearn import preprocessing\n",
    "class_mapping = {'CERTIFIED':0, 'DENIED':1}\n",
    "df[\"CASE_STATUS\"] = df[\"CASE_STATUS\"].map(class_mapping)"
   ]
  },
  {
   "cell_type": "code",
   "execution_count": 61,
   "metadata": {},
   "outputs": [
    {
     "data": {
      "text/plain": [
       "0    2818282\n",
       "1      94364\n",
       "Name: CASE_STATUS, dtype: int64"
      ]
     },
     "execution_count": 61,
     "metadata": {},
     "output_type": "execute_result"
    }
   ],
   "source": [
    "df['CASE_STATUS'].value_counts()"
   ]
  },
  {
   "cell_type": "code",
   "execution_count": 62,
   "metadata": {},
   "outputs": [
    {
     "name": "stdout",
     "output_type": "stream",
     "text": [
      "                                                        0\n",
      "0                            POSTDOCTORAL RESEARCH FELLOW\n",
      "1                                 CHIEF OPERATING OFFICER\n",
      "2                                   CHIEF PROCESS OFFICER\n",
      "3                             REGIONAL PRESIDEN, AMERICAS\n",
      "4       EXECUTIVE V P, GLOBAL DEVELOPMENT AND PRESIDEN...\n",
      "5                                CHIEF OPERATIONS OFFICER\n",
      "6                                               PRESIDENT\n",
      "7          CHIEF INFORMATION OFFICER, HEINZ NORTH AMERICA\n",
      "8        VICE PRESIDENT AND CHIEF HUMAN RESOURCES OFFICER\n",
      "9                                       TREASURER AND COO\n",
      "10                               CHIEF COMMERCIAL OFFICER\n",
      "11                                           BOARD MEMBER\n",
      "12                                CHIEF FINANCIAL OFFICER\n",
      "13                              VICE PRESIDENT OF FINANCE\n",
      "14                            GENERAL MANAGER, OPERATIONS\n",
      "15                                                    CEO\n",
      "16                            PRESIDENT, NORTHEAST REGION\n",
      "17                          CHIEF OPERATING OFFICER (COO)\n",
      "18                                CHIEF EXECUTIVE OFFICER\n",
      "19                                 CHIEF BUSINESS OFFICER\n",
      "20                          VICE PRESIDENT OF ENGINEERING\n",
      "21                                     EXECUTIVE DIRECTOR\n",
      "22                   VICE PRESIDENT, BUSINESS DEVELOPMENT\n",
      "23                                       HEAD OF US SALES\n",
      "24                           VICE PRESIDENT OF OPERATIONS\n",
      "25        VICE PRESIDENT, FINANCE AND OPERATIONS ANALYSIS\n",
      "26                                       ACCOUNT DIRECTOR\n",
      "27                                     TECHNICAL DIRECTOR\n",
      "28                SVP BUSINESS OPERATIONS AND DEVELOPMENT\n",
      "29                                  CHIEF MEDICAL OFFICER\n",
      "...                                                   ...\n",
      "284519                         ASSISTANT WOMEN'S DESIGNER\n",
      "284520                           SENIOR SAP FI/CO ANALYST\n",
      "284521  SR. VP & MANAGING DIR., FW BIOKENETICS & PHARM...\n",
      "284522                        ASSAY DEVELOPMENT ASSOCIATE\n",
      "284523                             OPERATIONS ENGINEERING\n",
      "284524                   PROGRAM MANAGEMENT ANALYST - SAP\n",
      "284525                                   DOMINO DEVELOPER\n",
      "284526               RESEARCH ASSOCIATE/ CRIMINAL JUSTICE\n",
      "284527  SENIOR MOBILE APPLICATIONS DEVELOPER-CLIENT DE...\n",
      "284528       ASSOCIATE, IT RISK & BUSINESS ANALYST (LEAD)\n",
      "284529                                      INDUSTRY LEAD\n",
      "284530  SYSTEMS AND DATA ANALYST - TECHNICAL PROJECT M...\n",
      "284531                      MANAGER (PEDIATRIC SPECIALTY)\n",
      "284532                           ADMINISTRATIVE ANALYST 1\n",
      "284533          POWER DEVICE PRODUCT DEVELOPMENT ENGINEER\n",
      "284534           SECURITIES ANALYST, EQUITIES DERIVATIVES\n",
      "284535                        CONSULTANT, SYSTEMS ANALYST\n",
      "284536                  STAFF SYSTEMS ENGINEER (SOFTWARE)\n",
      "284537                 PROJECT MANAGER, MIXED USE HOUSING\n",
      "284538           PRODUCTION MANAGER, AEROSPACE COMPONENTS\n",
      "284539                             SR. SOFTWARE  ENGINEER\n",
      "284540                      DIRECTOR, DEVELOPER RELATIONS\n",
      "284541      MANAGER, SITE MERCHANDISING - HEALTH & SPORTS\n",
      "284542                     DIRECTOR  EDUCATIONAL PROGRAMS\n",
      "284543                             FOOT AND ANKLE SURGEON\n",
      "284544                              DFT MODELING ENGINEER\n",
      "284545      SENIOR SOFTWARE ENGINEER (LTE PROTOCOL STACK)\n",
      "284546                       CHEMISTRY  - SCIENCE TEACHER\n",
      "284547                         SALES AND LOGISTIC MANAGER\n",
      "284548                            APPRAISERS, REAL ESTATE\n",
      "\n",
      "[284549 rows x 1 columns]\n"
     ]
    }
   ],
   "source": [
    "##Numerical transformation for job title\n",
    "test1 = pd.Series(df['JOB_TITLE'].ravel()).unique()\n",
    "print(pd.DataFrame(test1))"
   ]
  },
  {
   "cell_type": "code",
   "execution_count": 63,
   "metadata": {},
   "outputs": [],
   "source": [
    "# dropping columns\n",
    "df = df.drop('EMPLOYER_NAME', axis = 1)\n",
    "df = df.drop('SOC_NAME', axis = 1)\n",
    "df = df.drop('JOB_TITLE', axis = 1)\n",
    "df = df.drop('WORKSITE', axis = 1)\n",
    "df = df.drop('CASE_ID', axis = 1)"
   ]
  },
  {
   "cell_type": "code",
   "execution_count": 66,
   "metadata": {},
   "outputs": [],
   "source": [
    "df1 = df.copy()"
   ]
  },
  {
   "cell_type": "code",
   "execution_count": 67,
   "metadata": {},
   "outputs": [],
   "source": [
    "#changing dtype to categorical\n",
    "df1[['CASE_STATUS', 'FULL_TIME_POSITION', 'YEAR','NEW_EMPLOYER','OCCUPATION','state']] = df1[['CASE_STATUS', 'FULL_TIME_POSITION', 'YEAR','NEW_EMPLOYER','OCCUPATION','state']].apply(lambda x: x.astype('category'))"
   ]
  },
  {
   "cell_type": "code",
   "execution_count": 68,
   "metadata": {},
   "outputs": [
    {
     "name": "stdout",
     "output_type": "stream",
     "text": [
      "<class 'pandas.core.frame.DataFrame'>\n",
      "Int64Index: 2912646 entries, 0 to 3002392\n",
      "Data columns (total 7 columns):\n",
      "CASE_STATUS           category\n",
      "FULL_TIME_POSITION    category\n",
      "PREVAILING_WAGE       float64\n",
      "YEAR                  category\n",
      "NEW_EMPLOYER          category\n",
      "OCCUPATION            category\n",
      "state                 category\n",
      "dtypes: category(6), float64(1)\n",
      "memory usage: 61.1 MB\n"
     ]
    }
   ],
   "source": [
    "df1.info()"
   ]
  },
  {
   "cell_type": "code",
   "execution_count": 69,
   "metadata": {},
   "outputs": [],
   "source": [
    "#Split datt into trianing anfd test\n",
    "X = df.drop('CASE_STATUS', axis=1)\n",
    "y = df.CASE_STATUS\n",
    "\n",
    "seed = 7\n",
    "test_size = 0.40\n",
    "X_train, X_test, y_train, y_test = train_test_split(X, y, test_size=test_size, random_state=seed)\n"
   ]
  },
  {
   "cell_type": "code",
   "execution_count": 70,
   "metadata": {},
   "outputs": [
    {
     "data": {
      "text/plain": [
       "Index(['FULL_TIME_POSITION', 'PREVAILING_WAGE', 'YEAR', 'NEW_EMPLOYER',\n",
       "       'OCCUPATION', 'state'],\n",
       "      dtype='object')"
      ]
     },
     "execution_count": 70,
     "metadata": {},
     "output_type": "execute_result"
    }
   ],
   "source": [
    "X_train.columns"
   ]
  },
  {
   "cell_type": "code",
   "execution_count": 71,
   "metadata": {},
   "outputs": [
    {
     "data": {
      "text/plain": [
       "FULL_TIME_POSITION    0\n",
       "PREVAILING_WAGE       0\n",
       "YEAR                  0\n",
       "NEW_EMPLOYER          0\n",
       "OCCUPATION            0\n",
       "state                 0\n",
       "dtype: int64"
      ]
     },
     "execution_count": 71,
     "metadata": {},
     "output_type": "execute_result"
    }
   ],
   "source": [
    "X_train.isnull().sum()"
   ]
  },
  {
   "cell_type": "code",
   "execution_count": 72,
   "metadata": {},
   "outputs": [],
   "source": [
    "#Converting it to XGboost \n",
    "##pd.get_dummies() is used to encode the categorical values to integers\n",
    "X_train_encode = pd.get_dummies(X_train)\n",
    "X_test_encode = pd.get_dummies(X_test)"
   ]
  },
  {
   "cell_type": "code",
   "execution_count": 73,
   "metadata": {},
   "outputs": [
    {
     "data": {
      "text/plain": [
       "1005328    0\n",
       "816196     0\n",
       "1582854    0\n",
       "825095     0\n",
       "2963078    0\n",
       "Name: CASE_STATUS, dtype: int64"
      ]
     },
     "execution_count": 73,
     "metadata": {},
     "output_type": "execute_result"
    }
   ],
   "source": [
    "y_train.head()"
   ]
  },
  {
   "cell_type": "code",
   "execution_count": 75,
   "metadata": {},
   "outputs": [],
   "source": [
    "train_X = X_train_encode.as_matrix()\n",
    "train_y = y_train.as_matrix()"
   ]
  },
  {
   "cell_type": "code",
   "execution_count": 76,
   "metadata": {},
   "outputs": [],
   "source": [
    "import xgboost\n",
    "gbm=xgboost.XGBClassifier(max_features='sqrt', subsample=0.8, random_state=10)"
   ]
  },
  {
   "cell_type": "code",
   "execution_count": 77,
   "metadata": {},
   "outputs": [],
   "source": [
    "from sklearn.model_selection import GridSearchCV"
   ]
  },
  {
   "cell_type": "code",
   "execution_count": 78,
   "metadata": {},
   "outputs": [],
   "source": [
    "##set stages and shrinkage\n",
    "parameters = [{'n_estimators': [10, 100]},\n",
    "              {'learning_rate': [0.1, 0.01, 0.5]}]"
   ]
  },
  {
   "cell_type": "code",
   "execution_count": 79,
   "metadata": {},
   "outputs": [],
   "source": [
    "grid_search = GridSearchCV(estimator = gbm, param_grid = parameters, scoring='accuracy', cv = 3, n_jobs=-1)"
   ]
  },
  {
   "cell_type": "code",
   "execution_count": 80,
   "metadata": {},
   "outputs": [],
   "source": [
    "grid_search = grid_search.fit(train_X, train_y)"
   ]
  },
  {
   "cell_type": "code",
   "execution_count": 81,
   "metadata": {},
   "outputs": [
    {
     "data": {
      "text/plain": [
       "([mean: 0.96769, std: 0.00000, params: {'n_estimators': 10},\n",
       "  mean: 0.96770, std: 0.00000, params: {'n_estimators': 100},\n",
       "  mean: 0.96770, std: 0.00000, params: {'learning_rate': 0.1},\n",
       "  mean: 0.96769, std: 0.00000, params: {'learning_rate': 0.01},\n",
       "  mean: 0.96769, std: 0.00003, params: {'learning_rate': 0.5}],\n",
       " {'n_estimators': 100},\n",
       " 0.9676983177375432)"
      ]
     },
     "execution_count": 81,
     "metadata": {},
     "output_type": "execute_result"
    }
   ],
   "source": [
    "grid_search.grid_scores_, grid_search.best_params_, grid_search.best_score_\n",
    "#training set - Learning rate 0.5, acc = 96.7% "
   ]
  },
  {
   "cell_type": "code",
   "execution_count": 82,
   "metadata": {},
   "outputs": [
    {
     "data": {
      "text/plain": [
       "XGBClassifier(base_score=0.5, booster='gbtree', colsample_bylevel=1,\n",
       "       colsample_bytree=1, gamma=0, learning_rate=0.1, max_delta_step=0,\n",
       "       max_depth=3, max_features='sqrt', min_child_weight=1, missing=None,\n",
       "       n_estimators=100, n_jobs=1, nthread=None,\n",
       "       objective='binary:logistic', random_state=10, reg_alpha=0,\n",
       "       reg_lambda=1, scale_pos_weight=1, seed=None, silent=True,\n",
       "       subsample=0.8)"
      ]
     },
     "execution_count": 82,
     "metadata": {},
     "output_type": "execute_result"
    }
   ],
   "source": [
    "#Best combination of hyperparameters \n",
    "grid_search.best_estimator_"
   ]
  },
  {
   "cell_type": "code",
   "execution_count": 83,
   "metadata": {},
   "outputs": [],
   "source": [
    "#Model fiting\n",
    "gbm=xgboost.XGBClassifier(base_score=0.5, booster='gbtree', colsample_bylevel=1,\n",
    "       colsample_bytree=1, gamma=0, learning_rate=0.5, max_delta_step=0,\n",
    "       max_depth=3, max_features='sqrt', min_child_weight=1, missing=None,\n",
    "       n_estimators=100, n_jobs=1, nthread=None,\n",
    "       objective='binary:logistic', random_state=10, reg_alpha=0,\n",
    "       reg_lambda=1, scale_pos_weight=1, seed=None, silent=True,\n",
    "       subsample=0.8).fit(train_X, train_y)"
   ]
  },
  {
   "cell_type": "code",
   "execution_count": 84,
   "metadata": {},
   "outputs": [],
   "source": [
    "#prediction on test data set \n",
    "y_pred = gbm.predict(X_test_encode.as_matrix())"
   ]
  },
  {
   "cell_type": "code",
   "execution_count": 85,
   "metadata": {},
   "outputs": [
    {
     "data": {
      "text/plain": [
       "array([[1127037,     115],\n",
       "       [  37771,     136]])"
      ]
     },
     "execution_count": 85,
     "metadata": {},
     "output_type": "execute_result"
    }
   ],
   "source": [
    "#Evalation\n",
    "confusion_matrix(y_test, y_pred)\n"
   ]
  },
  {
   "cell_type": "code",
   "execution_count": 87,
   "metadata": {},
   "outputs": [
    {
     "name": "stdout",
     "output_type": "stream",
     "text": [
      "             precision    recall  f1-score   support\n",
      "\n",
      "          0       0.97      1.00      0.98   1127152\n",
      "          1       0.54      0.00      0.01     37907\n",
      "\n",
      "avg / total       0.95      0.97      0.95   1165059\n",
      "\n"
     ]
    }
   ],
   "source": [
    "print(classification_report(y_test, y_pred))"
   ]
  },
  {
   "cell_type": "code",
   "execution_count": 88,
   "metadata": {},
   "outputs": [
    {
     "data": {
      "text/plain": [
       "0.5017428504022443"
      ]
     },
     "execution_count": 88,
     "metadata": {},
     "output_type": "execute_result"
    }
   ],
   "source": [
    "#Roc curve\n",
    "from sklearn.metrics import roc_auc_score\n",
    "roc_auc_score(y_test, y_pred)\n",
    "#50% of the area is under the curve"
   ]
  },
  {
   "cell_type": "code",
   "execution_count": null,
   "metadata": {},
   "outputs": [],
   "source": []
  }
 ],
 "metadata": {
  "kernelspec": {
   "display_name": "Python 3",
   "language": "python",
   "name": "python3"
  },
  "language_info": {
   "codemirror_mode": {
    "name": "ipython",
    "version": 3
   },
   "file_extension": ".py",
   "mimetype": "text/x-python",
   "name": "python",
   "nbconvert_exporter": "python",
   "pygments_lexer": "ipython3",
   "version": "3.6.4"
  }
 },
 "nbformat": 4,
 "nbformat_minor": 2
}
